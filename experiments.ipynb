{
 "cells": [
  {
   "cell_type": "code",
   "execution_count": 50,
   "id": "a5627aac-b941-4e67-8c1f-08745127317e",
   "metadata": {},
   "outputs": [
    {
     "name": "stdout",
     "output_type": "stream",
     "text": [
      "[(10.0, 5646853920), (10.0, 3596484612), (10.0, 3921364084), (10.0, 5941617532), (10.0, 3624500966)]\n",
      "(10.0, 4546164222.8)\n"
     ]
    }
   ],
   "source": [
    "import subprocess\n",
    "from statistics import mean\n",
    "\n",
    "default_problem = \"101101011010110110011111011010100010110101111001000010011011101000\"\n",
    "\n",
    "def parse_output(output):\n",
    "    output_array = output.strip().split(' ')\n",
    "    score = output_array[1]\n",
    "    time = output_array[2]\n",
    "    return float(score), int(time)\n",
    "\n",
    "def calculate_mean_score_and_time(solver, iterations = 100000, problem = default_problem):\n",
    "    results = []\n",
    "    command = [\"./metaheuristics\",\n",
    "               \"--solver\", solver,\n",
    "               \"--problem\", problem,\n",
    "               \"-i\", str(iterations)]\n",
    "    \n",
    "    for i in range(5):\n",
    "        results.append(parse_output(subprocess.run(command, capture_output=True, text=True).stdout))\n",
    "\n",
    "    mean_score = mean([item[0] for item in results])\n",
    "    mean_time = mean([item[1] for item in results])\n",
    "    print(results)\n",
    "    return mean_score, mean_time\n",
    "\n",
    "print(calculate_mean_score_and_time(\"solve_tabu_avoid_snake\"))"
   ]
  }
 ],
 "metadata": {
  "kernelspec": {
   "display_name": "myenv",
   "language": "python",
   "name": "myenv"
  },
  "language_info": {
   "codemirror_mode": {
    "name": "ipython",
    "version": 3
   },
   "file_extension": ".py",
   "mimetype": "text/x-python",
   "name": "python",
   "nbconvert_exporter": "python",
   "pygments_lexer": "ipython3",
   "version": "3.12.4"
  }
 },
 "nbformat": 4,
 "nbformat_minor": 5
}
